{
 "cells": [
  {
   "cell_type": "code",
   "execution_count": 1,
   "metadata": {},
   "outputs": [],
   "source": [
    "import numpy as np\n",
    "import pandas as pd\n",
    "from matplotlib import pyplot as plt\n"
   ]
  },
  {
   "cell_type": "code",
   "execution_count": 2,
   "metadata": {},
   "outputs": [],
   "source": [
    "items=pd.read_excel(r\"data\\\\revidly.xlsx\",sheet_name='train')"
   ]
  },
  {
   "cell_type": "code",
   "execution_count": 3,
   "metadata": {},
   "outputs": [],
   "source": [
    "items.head()\n",
    "items.to_excel('data\\\\revidly.xlsx',sheet_name='train',index=False)\n"
   ]
  },
  {
   "cell_type": "code",
   "execution_count": 4,
   "metadata": {},
   "outputs": [
    {
     "data": {
      "text/plain": [
       "301"
      ]
     },
     "execution_count": 4,
     "metadata": {},
     "output_type": "execute_result"
    }
   ],
   "source": [
    "n_users=items.user_id.unique().shape[0]\n",
    "n_users"
   ]
  },
  {
   "cell_type": "code",
   "execution_count": 5,
   "metadata": {},
   "outputs": [
    {
     "data": {
      "text/plain": [
       "1001"
      ]
     },
     "execution_count": 5,
     "metadata": {},
     "output_type": "execute_result"
    }
   ],
   "source": [
    "n_items=items.post_id.unique().shape[0]\n",
    "n_items"
   ]
  },
  {
   "cell_type": "code",
   "execution_count": 6,
   "metadata": {},
   "outputs": [
    {
     "data": {
      "text/html": [
       "<div>\n",
       "<style scoped>\n",
       "    .dataframe tbody tr th:only-of-type {\n",
       "        vertical-align: middle;\n",
       "    }\n",
       "\n",
       "    .dataframe tbody tr th {\n",
       "        vertical-align: top;\n",
       "    }\n",
       "\n",
       "    .dataframe thead th {\n",
       "        text-align: right;\n",
       "    }\n",
       "</style>\n",
       "<table border=\"1\" class=\"dataframe\">\n",
       "  <thead>\n",
       "    <tr style=\"text-align: right;\">\n",
       "      <th></th>\n",
       "      <th>user_id</th>\n",
       "      <th>post_id</th>\n",
       "      <th>vote</th>\n",
       "      <th>time_spent</th>\n",
       "      <th>share</th>\n",
       "      <th>n_views</th>\n",
       "      <th>time_scaled</th>\n",
       "      <th>score</th>\n",
       "    </tr>\n",
       "  </thead>\n",
       "  <tbody>\n",
       "    <tr>\n",
       "      <th>count</th>\n",
       "      <td>12000.000000</td>\n",
       "      <td>12000.000000</td>\n",
       "      <td>12000.000000</td>\n",
       "      <td>12000.000000</td>\n",
       "      <td>12000.00000</td>\n",
       "      <td>12000.000000</td>\n",
       "      <td>12000.000000</td>\n",
       "      <td>12000.000000</td>\n",
       "    </tr>\n",
       "    <tr>\n",
       "      <th>mean</th>\n",
       "      <td>149.330833</td>\n",
       "      <td>501.794833</td>\n",
       "      <td>0.004333</td>\n",
       "      <td>149.736417</td>\n",
       "      <td>24.90775</td>\n",
       "      <td>246.939667</td>\n",
       "      <td>0.499121</td>\n",
       "      <td>0.251107</td>\n",
       "    </tr>\n",
       "    <tr>\n",
       "      <th>std</th>\n",
       "      <td>87.162114</td>\n",
       "      <td>289.558051</td>\n",
       "      <td>0.818456</td>\n",
       "      <td>86.860013</td>\n",
       "      <td>14.70490</td>\n",
       "      <td>144.517073</td>\n",
       "      <td>0.289533</td>\n",
       "      <td>0.421783</td>\n",
       "    </tr>\n",
       "    <tr>\n",
       "      <th>min</th>\n",
       "      <td>0.000000</td>\n",
       "      <td>0.000000</td>\n",
       "      <td>-1.000000</td>\n",
       "      <td>0.000000</td>\n",
       "      <td>0.00000</td>\n",
       "      <td>0.000000</td>\n",
       "      <td>0.000000</td>\n",
       "      <td>-0.489400</td>\n",
       "    </tr>\n",
       "    <tr>\n",
       "      <th>25%</th>\n",
       "      <td>74.000000</td>\n",
       "      <td>252.000000</td>\n",
       "      <td>-1.000000</td>\n",
       "      <td>75.000000</td>\n",
       "      <td>12.00000</td>\n",
       "      <td>122.000000</td>\n",
       "      <td>0.250000</td>\n",
       "      <td>-0.177650</td>\n",
       "    </tr>\n",
       "    <tr>\n",
       "      <th>50%</th>\n",
       "      <td>150.000000</td>\n",
       "      <td>505.000000</td>\n",
       "      <td>0.000000</td>\n",
       "      <td>149.000000</td>\n",
       "      <td>25.00000</td>\n",
       "      <td>246.000000</td>\n",
       "      <td>0.496667</td>\n",
       "      <td>0.252200</td>\n",
       "    </tr>\n",
       "    <tr>\n",
       "      <th>75%</th>\n",
       "      <td>225.000000</td>\n",
       "      <td>753.000000</td>\n",
       "      <td>1.000000</td>\n",
       "      <td>225.000000</td>\n",
       "      <td>38.00000</td>\n",
       "      <td>371.000000</td>\n",
       "      <td>0.750000</td>\n",
       "      <td>0.675400</td>\n",
       "    </tr>\n",
       "    <tr>\n",
       "      <th>max</th>\n",
       "      <td>300.000000</td>\n",
       "      <td>1000.000000</td>\n",
       "      <td>1.000000</td>\n",
       "      <td>300.000000</td>\n",
       "      <td>50.00000</td>\n",
       "      <td>500.000000</td>\n",
       "      <td>1.000000</td>\n",
       "      <td>0.985400</td>\n",
       "    </tr>\n",
       "  </tbody>\n",
       "</table>\n",
       "</div>"
      ],
      "text/plain": [
       "            user_id       post_id          vote    time_spent        share  \\\n",
       "count  12000.000000  12000.000000  12000.000000  12000.000000  12000.00000   \n",
       "mean     149.330833    501.794833      0.004333    149.736417     24.90775   \n",
       "std       87.162114    289.558051      0.818456     86.860013     14.70490   \n",
       "min        0.000000      0.000000     -1.000000      0.000000      0.00000   \n",
       "25%       74.000000    252.000000     -1.000000     75.000000     12.00000   \n",
       "50%      150.000000    505.000000      0.000000    149.000000     25.00000   \n",
       "75%      225.000000    753.000000      1.000000    225.000000     38.00000   \n",
       "max      300.000000   1000.000000      1.000000    300.000000     50.00000   \n",
       "\n",
       "            n_views   time_scaled         score  \n",
       "count  12000.000000  12000.000000  12000.000000  \n",
       "mean     246.939667      0.499121      0.251107  \n",
       "std      144.517073      0.289533      0.421783  \n",
       "min        0.000000      0.000000     -0.489400  \n",
       "25%      122.000000      0.250000     -0.177650  \n",
       "50%      246.000000      0.496667      0.252200  \n",
       "75%      371.000000      0.750000      0.675400  \n",
       "max      500.000000      1.000000      0.985400  "
      ]
     },
     "execution_count": 6,
     "metadata": {},
     "output_type": "execute_result"
    }
   ],
   "source": [
    "items.describe()"
   ]
  },
  {
   "cell_type": "code",
   "execution_count": 7,
   "metadata": {},
   "outputs": [
    {
     "data": {
      "text/plain": [
       "149.73641666666666"
      ]
     },
     "execution_count": 7,
     "metadata": {},
     "output_type": "execute_result"
    }
   ],
   "source": [
    "items['time_spent'].mean()"
   ]
  },
  {
   "cell_type": "code",
   "execution_count": 8,
   "metadata": {},
   "outputs": [],
   "source": [
    "#normalize time_Spent\n",
    "#items['time']=(items['time_spent'])/300 #-items['time_spent'].mean())/150\n"
   ]
  },
  {
   "cell_type": "code",
   "execution_count": 9,
   "metadata": {},
   "outputs": [],
   "source": [
    "#normalize vote\n",
    "#items.vote=items.vote/2"
   ]
  },
  {
   "cell_type": "code",
   "execution_count": 10,
   "metadata": {},
   "outputs": [],
   "source": [
    "#define new rating\n",
    "score= (items['vote'] * 0.5 ) + (items['time_scaled'] *0.3) +(items['share']*0.1/50)+(items['n_views']*0.1/500)\n"
   ]
  },
  {
   "cell_type": "code",
   "execution_count": 11,
   "metadata": {},
   "outputs": [
    {
     "data": {
      "text/html": [
       "<div>\n",
       "<style scoped>\n",
       "    .dataframe tbody tr th:only-of-type {\n",
       "        vertical-align: middle;\n",
       "    }\n",
       "\n",
       "    .dataframe tbody tr th {\n",
       "        vertical-align: top;\n",
       "    }\n",
       "\n",
       "    .dataframe thead th {\n",
       "        text-align: right;\n",
       "    }\n",
       "</style>\n",
       "<table border=\"1\" class=\"dataframe\">\n",
       "  <thead>\n",
       "    <tr style=\"text-align: right;\">\n",
       "      <th></th>\n",
       "      <th>user_id</th>\n",
       "      <th>post_id</th>\n",
       "      <th>vote</th>\n",
       "      <th>time_spent</th>\n",
       "      <th>share</th>\n",
       "      <th>n_views</th>\n",
       "      <th>time_scaled</th>\n",
       "      <th>score</th>\n",
       "    </tr>\n",
       "  </thead>\n",
       "  <tbody>\n",
       "    <tr>\n",
       "      <th>0</th>\n",
       "      <td>191</td>\n",
       "      <td>10</td>\n",
       "      <td>0</td>\n",
       "      <td>153</td>\n",
       "      <td>12</td>\n",
       "      <td>410</td>\n",
       "      <td>0.510000</td>\n",
       "      <td>0.2590</td>\n",
       "    </tr>\n",
       "    <tr>\n",
       "      <th>1</th>\n",
       "      <td>121</td>\n",
       "      <td>697</td>\n",
       "      <td>0</td>\n",
       "      <td>66</td>\n",
       "      <td>37</td>\n",
       "      <td>318</td>\n",
       "      <td>0.220000</td>\n",
       "      <td>0.2036</td>\n",
       "    </tr>\n",
       "    <tr>\n",
       "      <th>2</th>\n",
       "      <td>267</td>\n",
       "      <td>680</td>\n",
       "      <td>0</td>\n",
       "      <td>41</td>\n",
       "      <td>31</td>\n",
       "      <td>121</td>\n",
       "      <td>0.136667</td>\n",
       "      <td>0.1272</td>\n",
       "    </tr>\n",
       "    <tr>\n",
       "      <th>3</th>\n",
       "      <td>15</td>\n",
       "      <td>584</td>\n",
       "      <td>0</td>\n",
       "      <td>20</td>\n",
       "      <td>9</td>\n",
       "      <td>118</td>\n",
       "      <td>0.066667</td>\n",
       "      <td>0.0616</td>\n",
       "    </tr>\n",
       "    <tr>\n",
       "      <th>4</th>\n",
       "      <td>194</td>\n",
       "      <td>996</td>\n",
       "      <td>-1</td>\n",
       "      <td>226</td>\n",
       "      <td>8</td>\n",
       "      <td>264</td>\n",
       "      <td>0.753333</td>\n",
       "      <td>-0.2052</td>\n",
       "    </tr>\n",
       "    <tr>\n",
       "      <th>5</th>\n",
       "      <td>72</td>\n",
       "      <td>827</td>\n",
       "      <td>1</td>\n",
       "      <td>62</td>\n",
       "      <td>10</td>\n",
       "      <td>242</td>\n",
       "      <td>0.206667</td>\n",
       "      <td>0.6304</td>\n",
       "    </tr>\n",
       "    <tr>\n",
       "      <th>6</th>\n",
       "      <td>24</td>\n",
       "      <td>446</td>\n",
       "      <td>1</td>\n",
       "      <td>268</td>\n",
       "      <td>19</td>\n",
       "      <td>267</td>\n",
       "      <td>0.893333</td>\n",
       "      <td>0.8594</td>\n",
       "    </tr>\n",
       "    <tr>\n",
       "      <th>7</th>\n",
       "      <td>146</td>\n",
       "      <td>345</td>\n",
       "      <td>-1</td>\n",
       "      <td>193</td>\n",
       "      <td>50</td>\n",
       "      <td>439</td>\n",
       "      <td>0.643333</td>\n",
       "      <td>-0.1192</td>\n",
       "    </tr>\n",
       "    <tr>\n",
       "      <th>8</th>\n",
       "      <td>11</td>\n",
       "      <td>61</td>\n",
       "      <td>1</td>\n",
       "      <td>2</td>\n",
       "      <td>43</td>\n",
       "      <td>180</td>\n",
       "      <td>0.006667</td>\n",
       "      <td>0.6240</td>\n",
       "    </tr>\n",
       "    <tr>\n",
       "      <th>9</th>\n",
       "      <td>208</td>\n",
       "      <td>167</td>\n",
       "      <td>0</td>\n",
       "      <td>63</td>\n",
       "      <td>24</td>\n",
       "      <td>74</td>\n",
       "      <td>0.210000</td>\n",
       "      <td>0.1258</td>\n",
       "    </tr>\n",
       "    <tr>\n",
       "      <th>10</th>\n",
       "      <td>250</td>\n",
       "      <td>871</td>\n",
       "      <td>1</td>\n",
       "      <td>262</td>\n",
       "      <td>10</td>\n",
       "      <td>306</td>\n",
       "      <td>0.873333</td>\n",
       "      <td>0.8432</td>\n",
       "    </tr>\n",
       "    <tr>\n",
       "      <th>11</th>\n",
       "      <td>52</td>\n",
       "      <td>316</td>\n",
       "      <td>0</td>\n",
       "      <td>265</td>\n",
       "      <td>38</td>\n",
       "      <td>133</td>\n",
       "      <td>0.883333</td>\n",
       "      <td>0.3676</td>\n",
       "    </tr>\n",
       "    <tr>\n",
       "      <th>12</th>\n",
       "      <td>138</td>\n",
       "      <td>75</td>\n",
       "      <td>1</td>\n",
       "      <td>184</td>\n",
       "      <td>28</td>\n",
       "      <td>48</td>\n",
       "      <td>0.613333</td>\n",
       "      <td>0.7496</td>\n",
       "    </tr>\n",
       "    <tr>\n",
       "      <th>13</th>\n",
       "      <td>290</td>\n",
       "      <td>532</td>\n",
       "      <td>0</td>\n",
       "      <td>279</td>\n",
       "      <td>22</td>\n",
       "      <td>364</td>\n",
       "      <td>0.930000</td>\n",
       "      <td>0.3958</td>\n",
       "    </tr>\n",
       "    <tr>\n",
       "      <th>14</th>\n",
       "      <td>54</td>\n",
       "      <td>429</td>\n",
       "      <td>0</td>\n",
       "      <td>6</td>\n",
       "      <td>24</td>\n",
       "      <td>209</td>\n",
       "      <td>0.020000</td>\n",
       "      <td>0.0958</td>\n",
       "    </tr>\n",
       "    <tr>\n",
       "      <th>15</th>\n",
       "      <td>13</td>\n",
       "      <td>136</td>\n",
       "      <td>0</td>\n",
       "      <td>218</td>\n",
       "      <td>24</td>\n",
       "      <td>245</td>\n",
       "      <td>0.726667</td>\n",
       "      <td>0.3150</td>\n",
       "    </tr>\n",
       "    <tr>\n",
       "      <th>16</th>\n",
       "      <td>247</td>\n",
       "      <td>670</td>\n",
       "      <td>0</td>\n",
       "      <td>132</td>\n",
       "      <td>27</td>\n",
       "      <td>78</td>\n",
       "      <td>0.440000</td>\n",
       "      <td>0.2016</td>\n",
       "    </tr>\n",
       "    <tr>\n",
       "      <th>17</th>\n",
       "      <td>180</td>\n",
       "      <td>431</td>\n",
       "      <td>1</td>\n",
       "      <td>168</td>\n",
       "      <td>19</td>\n",
       "      <td>65</td>\n",
       "      <td>0.560000</td>\n",
       "      <td>0.7190</td>\n",
       "    </tr>\n",
       "    <tr>\n",
       "      <th>18</th>\n",
       "      <td>102</td>\n",
       "      <td>945</td>\n",
       "      <td>0</td>\n",
       "      <td>72</td>\n",
       "      <td>18</td>\n",
       "      <td>409</td>\n",
       "      <td>0.240000</td>\n",
       "      <td>0.1898</td>\n",
       "    </tr>\n",
       "    <tr>\n",
       "      <th>19</th>\n",
       "      <td>134</td>\n",
       "      <td>586</td>\n",
       "      <td>-1</td>\n",
       "      <td>82</td>\n",
       "      <td>28</td>\n",
       "      <td>32</td>\n",
       "      <td>0.273333</td>\n",
       "      <td>-0.3556</td>\n",
       "    </tr>\n",
       "  </tbody>\n",
       "</table>\n",
       "</div>"
      ],
      "text/plain": [
       "    user_id  post_id  vote  time_spent  share  n_views  time_scaled   score\n",
       "0       191       10     0         153     12      410     0.510000  0.2590\n",
       "1       121      697     0          66     37      318     0.220000  0.2036\n",
       "2       267      680     0          41     31      121     0.136667  0.1272\n",
       "3        15      584     0          20      9      118     0.066667  0.0616\n",
       "4       194      996    -1         226      8      264     0.753333 -0.2052\n",
       "5        72      827     1          62     10      242     0.206667  0.6304\n",
       "6        24      446     1         268     19      267     0.893333  0.8594\n",
       "7       146      345    -1         193     50      439     0.643333 -0.1192\n",
       "8        11       61     1           2     43      180     0.006667  0.6240\n",
       "9       208      167     0          63     24       74     0.210000  0.1258\n",
       "10      250      871     1         262     10      306     0.873333  0.8432\n",
       "11       52      316     0         265     38      133     0.883333  0.3676\n",
       "12      138       75     1         184     28       48     0.613333  0.7496\n",
       "13      290      532     0         279     22      364     0.930000  0.3958\n",
       "14       54      429     0           6     24      209     0.020000  0.0958\n",
       "15       13      136     0         218     24      245     0.726667  0.3150\n",
       "16      247      670     0         132     27       78     0.440000  0.2016\n",
       "17      180      431     1         168     19       65     0.560000  0.7190\n",
       "18      102      945     0          72     18      409     0.240000  0.1898\n",
       "19      134      586    -1          82     28       32     0.273333 -0.3556"
      ]
     },
     "execution_count": 11,
     "metadata": {},
     "output_type": "execute_result"
    }
   ],
   "source": [
    "items['score']=score\n",
    "items.head(20)"
   ]
  },
  {
   "cell_type": "code",
   "execution_count": 12,
   "metadata": {},
   "outputs": [],
   "source": [
    "#data_matrix is the user x item matrix, which has rating of user i for the post j\n",
    "\n",
    "data_matrix = np.zeros((n_users, n_items))#,2))\n"
   ]
  },
  {
   "cell_type": "code",
   "execution_count": 13,
   "metadata": {},
   "outputs": [],
   "source": [
    "# data matrix . rows are users and columns are movies. the value at data_matrix[i][j]=rating for movie j by user i.\n",
    "for line in items.itertuples():\n",
    "    #print ([line[3],line[4]])\n",
    "    data_matrix[line[1],line[2]]=line[8]  #,line[4]]"
   ]
  },
  {
   "cell_type": "code",
   "execution_count": 14,
   "metadata": {},
   "outputs": [
    {
     "data": {
      "text/plain": [
       "0.259"
      ]
     },
     "execution_count": 14,
     "metadata": {},
     "output_type": "execute_result"
    }
   ],
   "source": [
    "data_matrix[191][10]"
   ]
  },
  {
   "cell_type": "code",
   "execution_count": 15,
   "metadata": {},
   "outputs": [],
   "source": [
    "from sklearn.metrics.pairwise import pairwise_distances \n",
    "user_similarity = pairwise_distances(data_matrix, metric='cosine') \n",
    "item_similarity = pairwise_distances(data_matrix.T, metric='cosine')"
   ]
  },
  {
   "cell_type": "code",
   "execution_count": 16,
   "metadata": {},
   "outputs": [],
   "source": [
    "def predict(ratings, similarity, type='user'):\n",
    "    if type == 'user':\n",
    "        mean_user_rating = ratings.mean(axis=1)\n",
    "        #We use np.newaxis so that mean_user_rating has same format as ratings\n",
    "        ratings_diff = (ratings - mean_user_rating[:, np.newaxis])\n",
    "        pred = mean_user_rating[:, np.newaxis] + similarity.dot(ratings_diff) / np.array([np.abs(similarity).sum(axis=1)]).T\n",
    "    elif type == 'item':\n",
    "        pred = ratings.dot(similarity) / np.array([np.abs(similarity).sum(axis=1)])\n",
    "    return pred"
   ]
  },
  {
   "cell_type": "code",
   "execution_count": 17,
   "metadata": {},
   "outputs": [],
   "source": [
    "#user_prediction = predict(data_matrix, user_similarity, type='user') \n",
    "item_prediction = predict(data_matrix, item_similarity, type='item')"
   ]
  },
  {
   "cell_type": "code",
   "execution_count": 18,
   "metadata": {},
   "outputs": [
    {
     "data": {
      "text/plain": [
       "array([[115, 875, 165, ..., 411,  62, 552],\n",
       "       [328, 154, 204, ..., 137, 637,  33],\n",
       "       [143, 185, 307, ..., 883, 114, 158],\n",
       "       ...,\n",
       "       [ 58,  66, 203, ..., 492, 921, 977],\n",
       "       [ 34, 704, 847, ..., 220, 536, 698],\n",
       "       [ 27, 212, 622, ...,  54,  83, 643]], dtype=int64)"
      ]
     },
     "execution_count": 18,
     "metadata": {},
     "output_type": "execute_result"
    }
   ],
   "source": [
    "item_prediction.argsort()"
   ]
  },
  {
   "cell_type": "code",
   "execution_count": 19,
   "metadata": {},
   "outputs": [
    {
     "data": {
      "text/plain": [
       "array([552,  62, 411, 507, 571, 131, 343, 374, 899, 597, 716, 101,  92,\n",
       "       654, 858, 645, 538, 225, 510, 105], dtype=int64)"
      ]
     },
     "execution_count": 19,
     "metadata": {},
     "output_type": "execute_result"
    }
   ],
   "source": [
    "#n_post= number of post want to suggest to each user\n",
    "n_post=20\n",
    "\n",
    "pred_post=np.argsort(-item_prediction)[:,:n_post]\n",
    "pred_post[0]\n"
   ]
  },
  {
   "cell_type": "code",
   "execution_count": 20,
   "metadata": {},
   "outputs": [],
   "source": [
    "pred_item=pd.DataFrame({'user_id':[] , 'post_ids':[]})\n",
    "\n",
    "for i in range(n_users):\n",
    "    pred_item = pred_item.append({'user_id': i, 'post_ids':pred_post[i]}, ignore_index=True)\n",
    "    #pred_item['post_ids'][i]=pred_post[i]\n",
    "    \n",
    "pred_item.user_id.astype='int'"
   ]
  },
  {
   "cell_type": "code",
   "execution_count": 21,
   "metadata": {},
   "outputs": [
    {
     "data": {
      "text/html": [
       "<div>\n",
       "<style scoped>\n",
       "    .dataframe tbody tr th:only-of-type {\n",
       "        vertical-align: middle;\n",
       "    }\n",
       "\n",
       "    .dataframe tbody tr th {\n",
       "        vertical-align: top;\n",
       "    }\n",
       "\n",
       "    .dataframe thead th {\n",
       "        text-align: right;\n",
       "    }\n",
       "</style>\n",
       "<table border=\"1\" class=\"dataframe\">\n",
       "  <thead>\n",
       "    <tr style=\"text-align: right;\">\n",
       "      <th></th>\n",
       "      <th>user_id</th>\n",
       "      <th>post_ids</th>\n",
       "    </tr>\n",
       "  </thead>\n",
       "  <tbody>\n",
       "    <tr>\n",
       "      <th>0</th>\n",
       "      <td>0.0</td>\n",
       "      <td>[552, 62, 411, 507, 571, 131, 343, 374, 899, 5...</td>\n",
       "    </tr>\n",
       "    <tr>\n",
       "      <th>1</th>\n",
       "      <td>1.0</td>\n",
       "      <td>[33, 637, 137, 523, 822, 776, 26, 422, 911, 97...</td>\n",
       "    </tr>\n",
       "    <tr>\n",
       "      <th>2</th>\n",
       "      <td>2.0</td>\n",
       "      <td>[158, 114, 883, 683, 159, 755, 864, 81, 929, 2...</td>\n",
       "    </tr>\n",
       "    <tr>\n",
       "      <th>3</th>\n",
       "      <td>3.0</td>\n",
       "      <td>[71, 108, 626, 534, 939, 600, 988, 444, 324, 8...</td>\n",
       "    </tr>\n",
       "    <tr>\n",
       "      <th>4</th>\n",
       "      <td>4.0</td>\n",
       "      <td>[124, 452, 879, 573, 438, 905, 505, 65, 120, 9...</td>\n",
       "    </tr>\n",
       "  </tbody>\n",
       "</table>\n",
       "</div>"
      ],
      "text/plain": [
       "   user_id                                           post_ids\n",
       "0      0.0  [552, 62, 411, 507, 571, 131, 343, 374, 899, 5...\n",
       "1      1.0  [33, 637, 137, 523, 822, 776, 26, 422, 911, 97...\n",
       "2      2.0  [158, 114, 883, 683, 159, 755, 864, 81, 929, 2...\n",
       "3      3.0  [71, 108, 626, 534, 939, 600, 988, 444, 324, 8...\n",
       "4      4.0  [124, 452, 879, 573, 438, 905, 505, 65, 120, 9..."
      ]
     },
     "execution_count": 21,
     "metadata": {},
     "output_type": "execute_result"
    }
   ],
   "source": [
    "pred_item.head()"
   ]
  },
  {
   "cell_type": "code",
   "execution_count": 22,
   "metadata": {},
   "outputs": [],
   "source": [
    "# from openpyxl import load_workbook\n",
    "# workbook1 = load_workbook('data\\\\revidly.xlsx')\n",
    " \n",
    "# writer = pd.ExcelWriter('data\\\\revidly.xlsx', engine='openpyxl') \n",
    "# writer.book = workbook1\n",
    "# pred_item.to_excel(writer, sheet_name='pred_output',index=False)\n",
    " \n",
    "# writer.save()\n",
    "# writer.close()"
   ]
  },
  {
   "cell_type": "code",
   "execution_count": null,
   "metadata": {},
   "outputs": [],
   "source": []
  }
 ],
 "metadata": {
  "kernelspec": {
   "display_name": "Python 3",
   "language": "python",
   "name": "python3"
  },
  "language_info": {
   "codemirror_mode": {
    "name": "ipython",
    "version": 3
   },
   "file_extension": ".py",
   "mimetype": "text/x-python",
   "name": "python",
   "nbconvert_exporter": "python",
   "pygments_lexer": "ipython3",
   "version": "3.7.6"
  }
 },
 "nbformat": 4,
 "nbformat_minor": 4
}
